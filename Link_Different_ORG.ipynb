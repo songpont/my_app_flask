{
  "nbformat": 4,
  "nbformat_minor": 0,
  "metadata": {
    "colab": {
      "provenance": [],
      "authorship_tag": "ABX9TyNMJHWFO490v6XamEWywjUa",
      "include_colab_link": true
    },
    "kernelspec": {
      "name": "python3",
      "display_name": "Python 3"
    },
    "language_info": {
      "name": "python"
    }
  },
  "cells": [
    {
      "cell_type": "markdown",
      "metadata": {
        "id": "view-in-github",
        "colab_type": "text"
      },
      "source": [
        "<a href=\"https://colab.research.google.com/github/songpont/my_app_flask/blob/master/Link_Different_ORG.ipynb\" target=\"_parent\"><img src=\"https://colab.research.google.com/assets/colab-badge.svg\" alt=\"Open In Colab\"/></a>"
      ]
    },
    {
      "cell_type": "markdown",
      "source": [
        "# แสดงตัวอย่างการเชื่อมข้อมูลโครงการ จาก 2 แหล่ง"
      ],
      "metadata": {
        "id": "euvRzE7v64_f"
      }
    },
    {
      "cell_type": "markdown",
      "source": [
        "แสดงตัวอย่างการเชื่อมข้อมูลโครงการ จาก 2 แหล่ง ที่มีโครงสร้างบางอย่างต่างกัน ในกรณีนี้จะให้เห็น concept การพัฒนา library กลาง สำหรับเชื่อมข้อมูล 2 แหล่งที่มี ประเด็นของโครงการ ใช้ชื่อเรียกต่างกัน และการใช้งาน library ที่เขียนขึ้นอย่างง่าย\n",
        "```\n",
        "สมมุติมีข้อมูลอยู่ 2 แหล่ง ที่มีโครงสร้างคล้ายกัน คือ เป็นชุดข้อมูลที่เก็บข้อมูลการสนับสนุนโครงการ ของหน่วยงาน p และ t ซึ่งอยู่คนละแหล่ง\n",
        "ในแต่ละชุดข้อมูลพบว่ามีข้อมูลที่เก็บคล้ายกัน เช่น ชื่อโครงการ หมวดหมู่หรือประเด็นของโครงการ ตำบล อำเภอ จังหวัด ที่มีการดำเนินการ\n",
        "\n",
        "สมมุติว่าทั้งหน่วยงาน p และ t มีการเก็บข้อมูลประเด็นไว้เหมือนกัน\n",
        "p มีรายการประเด็นคือ :\n",
        "['สิ่งแวดล้อม' 'การจัดการน้ำ' 'ผู้สูงอายุ' 'เหล้าบุหรี่' 'เด็กและเยาวชน'\n",
        " 'สุขภาพกาย']\n",
        "\n",
        "t มีรายการประเด็นคือ :\n",
        "['ปัจจัยเสี่ยง' 'ความมั่นคงทางอาหาร' 'น้ำ' 'ขยะ' 'บุหรี่ไฟฟ้า'\n",
        " 'สังคมสูงอายุ' 'เยาวชน' 'โรคไม่ติดต่อ']\n",
        "\n",
        " จากข้อมูล ทั้ง 2 แหล่งมีโครงสร้างคล้ายกัน ที่น่าสนใจคือ issue ที่มีการใช้ wording ที่ต่างกัน\n",
        "\n",
        " เราสามารถจัดกลุ่มประเด็นได้โดยเราต้องกำหนด common word ที่ใช้ร่วมกันด้วย\n",
        "เพราะหากมีข้อมูลมากกว่า 2 แหล่ง common word จะเป็น wording กลางในการเชื่อม\n",
        "เช่น common_word = น้ำ เชื่อมไปยัง p_issue = การจัดการน้ำ และ t_issue = น้ำ\n",
        "\n",
        "p_issue = การจัดการน้ำ <-----> **common_word = น้ำ** <-----> t_issue = น้ำ\n",
        "\n",
        "จากรายการประเด็นข้างต้น สามารถเขียน library จากตัวอย่างชุดข้อมูลได้ดังนี้\n",
        "\n",
        "common_word = สิ่งแวดล้อม มี issue สิ่งแวดล้อม น้ำ ขยะ การจัดการน้ำ\n",
        "common_word = น้ำ มี issue น้ำ การจัดการน้ำ\n",
        "common_word = อาหาร มี issue ความมั่นคงทางอาหาร\n",
        "common_word = ขยะ มี issue ขยะ\n",
        "common_word = ผู้สูงอายุ มี issue ผู้สูงอายุ สังคมสูงอายุ\n",
        "common_word = เยาวชน มี issue เด็กและเยาวชน เยาวชน\n",
        "common_word = สุขภาพกาย มี issue สุขภาพกาย โรคไม่ติดต่อ\n",
        "common_word = บุหรี่ มี issue เหล้าบุหรี่ บุหรี่ไฟฟ้า\n",
        "common_word = ปัจจัยเสี่ยง มี issue เหล้าบุหรี่ บุหรี่ไฟฟ้า\n",
        "common_word = สุขภาพกาย มี issue โรคไม่ติดต่อ สุขภาพกาย\n",
        "common_word = เด็ก มี issue เด็กและเยาวชน เยาวชน\n",
        "\n",
        "ความยากตอนพัฒนาจริงคือ การสร้าง common_word และการสร้าง model เพื่อเชื่อมกับแหล่งข้อมูลต่างๆ\n",
        "ยิ่งหลายชุดข้อมูล หลายแหล่ง หรือยิ่งแตกต่างกัน การสร้าง library ตรงนี้จะซับซ้อนขึ้นไปด้วย\n",
        "ซึ่งงานจ้างที่ปรึกษาเพื่อศึกษาความเป็นไปได้ในการเชื่อมข้อมูลเมื่อปี 66 มีการศึกษาและเสนอให้ใช้ graph database ในการเชื่อมโยง\n",
        "\n",
        "เพื่อแสดงให้เห็นภาพ ผมจำลองฐานข้อมูลขึ้นมา 2 ไฟล์ จากการ random เพื่อใช้ทดลอง concept นี้\n",
        "```"
      ],
      "metadata": {
        "id": "kRh_uTjJPXnI"
      }
    },
    {
      "cell_type": "markdown",
      "source": [
        "# 1. นำเข้าข้อมูลจากสองแหล่ง ในการใช้งานจริงอาจเชื่อมด้วย api หรือ ฐานข้อมูลกลางก็ได้ แล้วแต่การออกแบบ"
      ],
      "metadata": {
        "id": "vw6xZtEe1-0o"
      }
    },
    {
      "cell_type": "code",
      "execution_count": null,
      "metadata": {
        "colab": {
          "base_uri": "https://localhost:8080/"
        },
        "id": "0Hbt3-b-KwE1",
        "outputId": "be70ad78-1a32-4100-9996-363aae5a6964"
      },
      "outputs": [
        {
          "output_type": "stream",
          "name": "stdout",
          "text": [
            "Drive already mounted at /content/drive; to attempt to forcibly remount, call drive.mount(\"/content/drive\", force_remount=True).\n"
          ]
        }
      ],
      "source": [
        "#mount google drive\n",
        "from google.colab import drive\n",
        "drive.mount('/content/drive')\n",
        "import pandas as pd\n",
        "# Adjust the path according to your Google Drive folder structure\n",
        "df1 = pd.read_csv('/content/drive/My Drive/nhco_lab/p_project.csv')\n",
        "df2 = pd.read_csv('/content/drive/My Drive/nhco_lab/t_project.csv')"
      ]
    },
    {
      "cell_type": "markdown",
      "source": [
        "# 2.ดูโครงสร้างข้อมูลของ df1 หรือ dataset ชื่อ p_project.csv จากหน่วยงาน p และ ดูโครงสร้างข้อมูลของ df2 หรือ dataset ชื่อ t_project.csv จากหน่วยงาน t"
      ],
      "metadata": {
        "id": "2k4l_J-522lE"
      }
    },
    {
      "cell_type": "code",
      "source": [
        "#ดูโครงสร้างข้อมูลของ df1 หรือ dataset ชื่อ p_project.csv และ ดูโครงสร้างข้อมูลของ df2 หรือ dataset ชื่อ t_project.csv\n",
        "print ('show data from p_project.csv')\n",
        "print (df1.head(10))\n",
        "print ('-------------------------------------------------------------')\n",
        "print ('show data from t_project.csv')\n",
        "print (df2.head(10))"
      ],
      "metadata": {
        "colab": {
          "base_uri": "https://localhost:8080/"
        },
        "id": "cR_bBDOVO7Ee",
        "outputId": "cc595497-f35f-4391-c089-c5ffbadc3903"
      },
      "execution_count": null,
      "outputs": [
        {
          "output_type": "stream",
          "name": "stdout",
          "text": [
            "show data from p_project.csv\n",
            "   pid         p_name       p_issue p_sub_district      p_district  p_province\n",
            "0    1  โครงการที่ 14   สิ่งแวดล้อม       บ้านต้าย          พนมทวน  ปราจีนบุรี\n",
            "1    2   โครงการที่ 3  การจัดการน้ำ       เหล่างาม   เดิมบางนางบวช    นราธิวาส\n",
            "2    3  โครงการที่ 12    ผู้สูงอายุ        ธาตุทอง  เมืองเชียงใหม่   เชียงใหม่\n",
            "3    4   โครงการที่ 3  การจัดการน้ำ        ท่าหลวง          แม่ริม  นครราชสีมา\n",
            "4    5  โครงการที่ 19   สิ่งแวดล้อม        หนองครก       ขามทะเลสอ     หนองคาย\n",
            "5    6  โครงการที่ 11  การจัดการน้ำ         บางขัน        เมืองเลย   กาญจนบุรี\n",
            "6    7   โครงการที่ 4   เหล้าบุหรี่      บุพราหมณ์          ไทรงาม       สงขลา\n",
            "7    8   โครงการที่ 1    ผู้สูงอายุ         ไทรทอง  เมืองสมุทรสาคร      ชลบุรี\n",
            "8    9   โครงการที่ 7   เหล้าบุหรี่        ไชยมงคล          นากลาง    เชียงราย\n",
            "9   10   โครงการที่ 2  การจัดการน้ำ       ทวีวัฒนา       บ้านโพธิ์    ศรีสะเกษ\n",
            "-------------------------------------------------------------\n",
            "show data from t_project.csv\n",
            "   tid         t_name             t_issue t_sub_district        t_district  \\\n",
            "0    1  โครงการที่ 17        ปัจจัยเสี่ยง       ลาดพร้าว            ป่าบอน   \n",
            "1    2   โครงการที่ 7        ปัจจัยเสี่ยง        คลองสาม             สบเมย   \n",
            "2    3   โครงการที่ 5  ความมั่นคงทางอาหาร        น้ำแก่น          บางปะอิน   \n",
            "3    4  โครงการที่ 18                 น้ำ          นาสวน            น้ำพอง   \n",
            "4    5  โครงการที่ 11                 ขยะ          ซำยาง  เมืองหนองบัวลำภู   \n",
            "5    6   โครงการที่ 2         บุหรี่ไฟฟ้า         รังสิต             มะนัง   \n",
            "6    7  โครงการที่ 10        สังคมสูงอายุ       หัวเมือง           หนองแซง   \n",
            "7    8   โครงการที่ 2                 น้ำ           ขยาย            แม่อาย   \n",
            "8    9  โครงการที่ 13              เยาวชน           นาดี       พรานกระต่าย   \n",
            "9   10   โครงการที่ 3        ปัจจัยเสี่ยง       เมืองชุม         เหนือคลอง   \n",
            "\n",
            "        t_province  \n",
            "0         มุกดาหาร  \n",
            "1        มหาสารคาม  \n",
            "2         ศรีสะเกษ  \n",
            "3          อ่างทอง  \n",
            "4           นครพนม  \n",
            "5          สระบุรี  \n",
            "6    กรุงเทพมหานคร  \n",
            "7       นครราชสีมา  \n",
            "8           นครพนม  \n",
            "9  พระนครศรีอยุธยา  \n"
          ]
        }
      ]
    },
    {
      "cell_type": "markdown",
      "source": [
        "# 3.จากฐานข้อมูล จากข้อมูล ทั้ง 2 แหล่งมีโครงสร้างคล้ายกัน ที่น่าสนใจคือ issue ที่มีการใช้ wording ที่ต่างกัน จึงเขียนคำสั่งให้แสดง issue จากทั้ง 2 แหล่ง"
      ],
      "metadata": {
        "id": "x_ge17aC3HNx"
      }
    },
    {
      "cell_type": "code",
      "source": [
        "# จากข้อมูล ทั้ง 2 แหล่งมีโครงสร้างคล้ายกัน ที่น่าสนใจคือ issue ที่มีการใช้ wording ที่ต่างกัน\n",
        "# ลองดู issue จากทั้ง 2 แหล่ง\n",
        "# Extract unique values from each column\n",
        "unique_p_issues = df1['p_issue'].unique()\n",
        "unique_t_issues = df2['t_issue'].unique()\n",
        "\n",
        "# Display the unique values\n",
        "print(\"Unique values in p_issue from df1:\")\n",
        "print(unique_p_issues)\n",
        "print(\"\\nUnique values in t_issue from df2:\")\n",
        "print(unique_t_issues)"
      ],
      "metadata": {
        "colab": {
          "base_uri": "https://localhost:8080/"
        },
        "id": "8yrcLEyOPKQ0",
        "outputId": "c047ab49-d196-4cc4-9baf-3f677ccdd422"
      },
      "execution_count": null,
      "outputs": [
        {
          "output_type": "stream",
          "name": "stdout",
          "text": [
            "Unique values in p_issue from df1:\n",
            "['สิ่งแวดล้อม' 'การจัดการน้ำ' 'ผู้สูงอายุ' 'เหล้าบุหรี่' 'เด็กและเยาวชน'\n",
            " 'สุขภาพกาย']\n",
            "\n",
            "Unique values in t_issue from df2:\n",
            "['ปัจจัยเสี่ยง' 'ความมั่นคงทางอาหาร' 'น้ำ' 'ขยะ' 'บุหรี่ไฟฟ้า'\n",
            " 'สังคมสูงอายุ' 'เยาวชน' 'โรคไม่ติดต่อ']\n"
          ]
        }
      ]
    },
    {
      "cell_type": "markdown",
      "source": [
        "# 4.เขียน library และ function เพื่อเชื่อมข้อมูล issue\n",
        "เราต้องกำหนด common word ที่ใช้ร่วมกันด้วย เพราะหากมีข้อมูลมากกว่า 2 แหล่ง common word จะเป็น wording กลางในการเชื่อม เช่น common_word = น้ำ เชื่อมไปยัง p_issue = การจัดการน้ำ และ t_issue = น้ำ\n",
        "\n",
        "## p_issue = การจัดการน้ำ <-----> **common_word = น้ำ** <-----> t_issue = น้ำ\n",
        "\n",
        "library ที่ทำตั้งต้นจากตัวอย่างชุดข้อมูลมีดังนี้\n",
        "```\n",
        "common_word = สิ่งแวดล้อม มี issue สิ่งแวดล้อม น้ำ ขยะ การจัดการน้ำ\n",
        "common_word = น้ำ มี issue น้ำ การจัดการน้ำ\n",
        "common_word = อาหาร มี issue ความมั่นคงทางอาหาร\n",
        "common_word = ขยะ มี issue ขยะ\n",
        "common_word = ผู้สูงอายุ มี issue ผู้สูงอายุ สังคมสูงอายุ\n",
        "common_word = เยาวชน มี issue เด็กและเยาวชน เยาวชน\n",
        "common_word = สุขภาพกาย มี issue สุขภาพกาย โรคไม่ติดต่อ\n",
        "common_word = บุหรี่ มี issue เหล้าบุหรี่ บุหรี่ไฟฟ้า\n",
        "common_word = ปัจจัยเสี่ยง มี issue เหล้าบุหรี่ บุหรี่ไฟฟ้า\n",
        "common_word = สุขภาพกาย มี issue โรคไม่ติดต่อ สุขภาพกาย\n",
        "common_word = เด็ก มี issue เด็กและเยาวชน เยาวชน\n",
        "```\n",
        "function นี้ ใช้หลักการ search และหาจาก common_word,p_issue, และ t_issue"
      ],
      "metadata": {
        "id": "o8s5Pu9XSlLK"
      }
    },
    {
      "cell_type": "code",
      "source": [
        "class IssueLinkerEnhanced:\n",
        "    def __init__(self):\n",
        "        # กำหนดความสัมพันธ์ระหว่าง common_word และ issues\n",
        "        self.common_word_mapping = {\n",
        "            \"สิ่งแวดล้อม\": [\"สิ่งแวดล้อม\", \"น้ำ\", \"ขยะ\", \"การจัดการน้ำ\"],\n",
        "            \"น้ำ\": [\"น้ำ\", \"การจัดการน้ำ\"],\n",
        "            \"อาหาร\": [\"ความมั่นคงทางอาหาร\"],\n",
        "            \"ขยะ\": [\"ขยะ\"],\n",
        "            \"ผู้สูงอายุ\": [\"ผู้สูงอายุ\", \"สังคมสูงอายุ\"],\n",
        "            \"เยาวชน\": [\"เด็กและเยาวชน\", \"เยาวชน\"],\n",
        "            \"สุขภาพกาย\": [\"สุขภาพกาย\", \"โรคไม่ติดต่อ\"],\n",
        "            \"บุหรี่\": [\"เหล้าบุหรี่\", \"บุหรี่ไฟฟ้า\"],\n",
        "            \"ปัจจัยเสี่ยง\": [\"เหล้าบุหรี่\", \"บุหรี่ไฟฟ้า\"],\n",
        "            \"เด็ก\": [\"เด็กและเยาวชน\", \"เยาวชน\"]\n",
        "        }\n",
        "\n",
        "    def find_related_issues(self, search_term):\n",
        "        # ค้นหาประเด็นที่เกี่ยวข้องกับคำค้นหา\n",
        "        related_issues = set()\n",
        "        for common_word, issues in self.common_word_mapping.items():\n",
        "            if search_term in common_word:\n",
        "                related_issues.update(issues)\n",
        "            else:\n",
        "                for issue in issues:\n",
        "                    if search_term in issue:\n",
        "                        related_issues.add(issue)\n",
        "        return list(related_issues)\n"
      ],
      "metadata": {
        "id": "DQmwxouhgJye"
      },
      "execution_count": null,
      "outputs": []
    },
    {
      "cell_type": "markdown",
      "source": [
        "ทดลอง run function โดยหาจากคำว่า \"สูงอายุ\" ได้ผลกลับมาว่ามี issue ที่เกี่ยวข้องกันคือ ['สังคมสูงอายุ', 'ผู้สูงอายุ']"
      ],
      "metadata": {
        "id": "Lp6r9pvv4Nyf"
      }
    },
    {
      "cell_type": "code",
      "source": [
        "# ตัวอย่างการใช้งาน library\n",
        "issue_linker_enhanced = IssueLinkerEnhanced()\n",
        "search_term = \"สูงอายุ\"\n",
        "related_issues = issue_linker_enhanced.find_related_issues(search_term)\n",
        "\n",
        "related_issues  # แสดงผลลัพธ์ของประเด็นที่เกี่ยวข้องกับคำค้นหา \"สูงอายุ\""
      ],
      "metadata": {
        "colab": {
          "base_uri": "https://localhost:8080/"
        },
        "id": "HfxylkpBgiEC",
        "outputId": "c2ff917b-7e51-4383-8c6c-82c361f0c195"
      },
      "execution_count": null,
      "outputs": [
        {
          "output_type": "execute_result",
          "data": {
            "text/plain": [
              "['สังคมสูงอายุ', 'ผู้สูงอายุ']"
            ]
          },
          "metadata": {},
          "execution_count": 13
        }
      ]
    },
    {
      "cell_type": "markdown",
      "source": [
        "# 5.ทดสอบ Code และ Library ผ่านการกำหนดค่าในตัวแปร search_term\n",
        "```\n",
        "ในตัวอย่าง search_term = \"สิ่งแวดล้อม\"\n",
        "และให้นับ record ว่าจังหวัดที่มีโครงการเกี่ยวกับ \"สิ่งแวดล้อม\" มีจังหวัดละกี่รายการ\n",
        "และแสดงจำนวนว่าดึงข้อมูลจากหน่วยงาน p และ t มาแหล่งละกี่รายการ\n",
        "เราสามารถนำไปประยุกต์เพื่อประมวลให้แสดงผลอย่างอื่นได้\n",
        "```"
      ],
      "metadata": {
        "id": "kNqB9jjtje4e"
      }
    },
    {
      "cell_type": "code",
      "source": [
        "# อ่าน df1 และ df2 แล้ว\n",
        "# df1 = pd.read_csv('/content/drive/My Drive/nhco_lab/p_project.csv')\n",
        "# df2 = pd.read_csv('/content/drive/My Drive/nhco_lab/t_project.csv')\n",
        "\n",
        "# ใช้ IssueLinkerEnhanced ที่เราได้สร้างไว้\n",
        "issue_linker_enhanced = IssueLinkerEnhanced()\n",
        "\n",
        "# ตัวแปร search_term ที่ต้องการค้นหา\n",
        "search_term = \"สิ่งแวดล้อม\"  # แทนที่ด้วยคำค้นหาของคุณ\n",
        "\n",
        "# ค้นหา issues ที่เกี่ยวข้อง\n",
        "related_issues = issue_linker_enhanced.find_related_issues(search_term)\n",
        "\n",
        "# ฟิลเตอร์ข้อมูลจาก dataframe ที่มี issues ที่เกี่ยวข้อง\n",
        "filtered_df1 = df1[df1['p_issue'].isin(related_issues)].copy()\n",
        "filtered_df1 = filtered_df1.rename(columns={'pid': 'id', 'p_name': 'name', 'p_issue': 'issue',\n",
        "                                            'p_sub_district': 'sub_district', 'p_district': 'district',\n",
        "                                            'p_province': 'province'})\n",
        "filtered_df1['source'] = 'p_project'  # เพิ่ม column ใหม่แสดงที่มาของข้อมูล\n",
        "\n",
        "filtered_df2 = df2[df2['t_issue'].isin(related_issues)].copy()\n",
        "filtered_df2 = filtered_df2.rename(columns={'tid': 'id', 't_name': 'name', 't_issue': 'issue',\n",
        "                                            't_sub_district': 'sub_district', 't_district': 'district',\n",
        "                                            't_province': 'province'})\n",
        "filtered_df2['source'] = 't_project'  # เพิ่ม column ใหม่แสดงที่มาของข้อมูล\n",
        "\n",
        "# รวม filtered_df1 และ filtered_df2 เป็น df3\n",
        "df3 = pd.concat([filtered_df1, filtered_df2], axis=0, ignore_index=True)\n",
        "\n",
        "# แสดงผลลัพธ์\n",
        "print ('Search Term = ',search_term)\n",
        "print ('--------------------------------------')\n",
        "print(\"Combined DataFrame (df3) with New Column Names and Source Column:\")\n",
        "print(df3.head())  # แสดงผลลัพธ์บางส่วนของ df3\n",
        "# แต่ละจังหวัดมีกี่โครงการ\n",
        "province_count = df3['province'].value_counts()\n",
        "print ('--------------------------------------')\n",
        "print ('Amount of records in each province')\n",
        "print(province_count)\n",
        "# แต่ละแหล่งข้อมูลมีกี่รายการ\n",
        "source_count = df3['source'].value_counts()\n",
        "print ('--------------------------------------')\n",
        "print ('Amount of records in each source')\n",
        "print(source_count)\n"
      ],
      "metadata": {
        "colab": {
          "base_uri": "https://localhost:8080/"
        },
        "id": "TnK2ynEHjnpB",
        "outputId": "a2ef0846-0cf0-4079-e805-7a578fad6eca"
      },
      "execution_count": null,
      "outputs": [
        {
          "output_type": "stream",
          "name": "stdout",
          "text": [
            "Search Term =  สิ่งแวดล้อม\n",
            "--------------------------------------\n",
            "Combined DataFrame (df3) with New Column Names and Source Column:\n",
            "   id           name         issue sub_district       district    province  \\\n",
            "0   1  โครงการที่ 14   สิ่งแวดล้อม     บ้านต้าย         พนมทวน  ปราจีนบุรี   \n",
            "1   2   โครงการที่ 3  การจัดการน้ำ     เหล่างาม  เดิมบางนางบวช    นราธิวาส   \n",
            "2   4   โครงการที่ 3  การจัดการน้ำ      ท่าหลวง         แม่ริม  นครราชสีมา   \n",
            "3   5  โครงการที่ 19   สิ่งแวดล้อม      หนองครก      ขามทะเลสอ     หนองคาย   \n",
            "4   6  โครงการที่ 11  การจัดการน้ำ       บางขัน       เมืองเลย   กาญจนบุรี   \n",
            "\n",
            "      source  \n",
            "0  p_project  \n",
            "1  p_project  \n",
            "2  p_project  \n",
            "3  p_project  \n",
            "4  p_project  \n",
            "--------------------------------------\n",
            "Amount of records in each province\n",
            "นครราชสีมา       42\n",
            "ศรีสะเกษ         36\n",
            "เชียงใหม่        36\n",
            "นครศรีธรรมราช    35\n",
            "อุบลราชธานี      34\n",
            "                 ..\n",
            "นครนายก           3\n",
            "ตราด              3\n",
            "ระนอง             3\n",
            "สตูล              2\n",
            "ชุมพร             2\n",
            "Name: province, Length: 77, dtype: int64\n",
            "--------------------------------------\n",
            "Amount of records in each source\n",
            "p_project    647\n",
            "t_project    517\n",
            "Name: source, dtype: int64\n"
          ]
        }
      ]
    },
    {
      "cell_type": "markdown",
      "source": [
        "จากสองแหล่งข้อมูล ดึงข้อมูลมาตามการแสดงผลข้างต้น 5 จังหวัดที่มีโครงการ \"สิ่งแวดล้อม\" มากที่สุดคือ นครราชสีมา ศรีสะเกษ เชียงใหม่ นครศรีธรรมราช และอุบลราชธานี หน่วยงาน p มี 647 โครงการ หน่วยงาน t มี 517 โครงการ"
      ],
      "metadata": {
        "id": "x3icb5yA5j-I"
      }
    },
    {
      "cell_type": "markdown",
      "source": [
        "# ตัวอย่างข้อมูลที่ได้จากการ search หาใน library"
      ],
      "metadata": {
        "id": "Aq3lPqml6SAg"
      }
    },
    {
      "cell_type": "code",
      "source": [
        "df3"
      ],
      "metadata": {
        "colab": {
          "base_uri": "https://localhost:8080/",
          "height": 424
        },
        "id": "V6i_8uG7mn06",
        "outputId": "20ec514f-2e69-4200-b2f0-720e6413b659"
      },
      "execution_count": null,
      "outputs": [
        {
          "output_type": "execute_result",
          "data": {
            "text/plain": [
              "        id           name         issue sub_district       district  \\\n",
              "0        1  โครงการที่ 14   สิ่งแวดล้อม     บ้านต้าย         พนมทวน   \n",
              "1        2   โครงการที่ 3  การจัดการน้ำ     เหล่างาม  เดิมบางนางบวช   \n",
              "2        4   โครงการที่ 3  การจัดการน้ำ      ท่าหลวง         แม่ริม   \n",
              "3        5  โครงการที่ 19   สิ่งแวดล้อม      หนองครก      ขามทะเลสอ   \n",
              "4        6  โครงการที่ 11  การจัดการน้ำ       บางขัน       เมืองเลย   \n",
              "...    ...            ...           ...          ...            ...   \n",
              "1159  1977  โครงการที่ 16           ขยะ      นาเวียง        เสิงสาง   \n",
              "1160  1981   โครงการที่ 4           ขยะ   ตะโล๊ะหะลอ        ปลวกแดง   \n",
              "1161  1987  โครงการที่ 12           น้ำ         สนวน        หล่มสัก   \n",
              "1162  1997  โครงการที่ 14           น้ำ        นาพู่          ยี่งอ   \n",
              "1163  1998   โครงการที่ 3           น้ำ      ปากช่อง  เดิมบางนางบวช   \n",
              "\n",
              "        province     source  \n",
              "0     ปราจีนบุรี  p_project  \n",
              "1       นราธิวาส  p_project  \n",
              "2     นครราชสีมา  p_project  \n",
              "3        หนองคาย  p_project  \n",
              "4      กาญจนบุรี  p_project  \n",
              "...          ...        ...  \n",
              "1159      พัทลุง  t_project  \n",
              "1160      สกลนคร  t_project  \n",
              "1161   บุรีรัมย์  t_project  \n",
              "1162   เชียงใหม่  t_project  \n",
              "1163   กาญจนบุรี  t_project  \n",
              "\n",
              "[1164 rows x 7 columns]"
            ],
            "text/html": [
              "\n",
              "  <div id=\"df-8e0c9ed6-93b7-4ef6-9c12-e7a23d2a220f\" class=\"colab-df-container\">\n",
              "    <div>\n",
              "<style scoped>\n",
              "    .dataframe tbody tr th:only-of-type {\n",
              "        vertical-align: middle;\n",
              "    }\n",
              "\n",
              "    .dataframe tbody tr th {\n",
              "        vertical-align: top;\n",
              "    }\n",
              "\n",
              "    .dataframe thead th {\n",
              "        text-align: right;\n",
              "    }\n",
              "</style>\n",
              "<table border=\"1\" class=\"dataframe\">\n",
              "  <thead>\n",
              "    <tr style=\"text-align: right;\">\n",
              "      <th></th>\n",
              "      <th>id</th>\n",
              "      <th>name</th>\n",
              "      <th>issue</th>\n",
              "      <th>sub_district</th>\n",
              "      <th>district</th>\n",
              "      <th>province</th>\n",
              "      <th>source</th>\n",
              "    </tr>\n",
              "  </thead>\n",
              "  <tbody>\n",
              "    <tr>\n",
              "      <th>0</th>\n",
              "      <td>1</td>\n",
              "      <td>โครงการที่ 14</td>\n",
              "      <td>สิ่งแวดล้อม</td>\n",
              "      <td>บ้านต้าย</td>\n",
              "      <td>พนมทวน</td>\n",
              "      <td>ปราจีนบุรี</td>\n",
              "      <td>p_project</td>\n",
              "    </tr>\n",
              "    <tr>\n",
              "      <th>1</th>\n",
              "      <td>2</td>\n",
              "      <td>โครงการที่ 3</td>\n",
              "      <td>การจัดการน้ำ</td>\n",
              "      <td>เหล่างาม</td>\n",
              "      <td>เดิมบางนางบวช</td>\n",
              "      <td>นราธิวาส</td>\n",
              "      <td>p_project</td>\n",
              "    </tr>\n",
              "    <tr>\n",
              "      <th>2</th>\n",
              "      <td>4</td>\n",
              "      <td>โครงการที่ 3</td>\n",
              "      <td>การจัดการน้ำ</td>\n",
              "      <td>ท่าหลวง</td>\n",
              "      <td>แม่ริม</td>\n",
              "      <td>นครราชสีมา</td>\n",
              "      <td>p_project</td>\n",
              "    </tr>\n",
              "    <tr>\n",
              "      <th>3</th>\n",
              "      <td>5</td>\n",
              "      <td>โครงการที่ 19</td>\n",
              "      <td>สิ่งแวดล้อม</td>\n",
              "      <td>หนองครก</td>\n",
              "      <td>ขามทะเลสอ</td>\n",
              "      <td>หนองคาย</td>\n",
              "      <td>p_project</td>\n",
              "    </tr>\n",
              "    <tr>\n",
              "      <th>4</th>\n",
              "      <td>6</td>\n",
              "      <td>โครงการที่ 11</td>\n",
              "      <td>การจัดการน้ำ</td>\n",
              "      <td>บางขัน</td>\n",
              "      <td>เมืองเลย</td>\n",
              "      <td>กาญจนบุรี</td>\n",
              "      <td>p_project</td>\n",
              "    </tr>\n",
              "    <tr>\n",
              "      <th>...</th>\n",
              "      <td>...</td>\n",
              "      <td>...</td>\n",
              "      <td>...</td>\n",
              "      <td>...</td>\n",
              "      <td>...</td>\n",
              "      <td>...</td>\n",
              "      <td>...</td>\n",
              "    </tr>\n",
              "    <tr>\n",
              "      <th>1159</th>\n",
              "      <td>1977</td>\n",
              "      <td>โครงการที่ 16</td>\n",
              "      <td>ขยะ</td>\n",
              "      <td>นาเวียง</td>\n",
              "      <td>เสิงสาง</td>\n",
              "      <td>พัทลุง</td>\n",
              "      <td>t_project</td>\n",
              "    </tr>\n",
              "    <tr>\n",
              "      <th>1160</th>\n",
              "      <td>1981</td>\n",
              "      <td>โครงการที่ 4</td>\n",
              "      <td>ขยะ</td>\n",
              "      <td>ตะโล๊ะหะลอ</td>\n",
              "      <td>ปลวกแดง</td>\n",
              "      <td>สกลนคร</td>\n",
              "      <td>t_project</td>\n",
              "    </tr>\n",
              "    <tr>\n",
              "      <th>1161</th>\n",
              "      <td>1987</td>\n",
              "      <td>โครงการที่ 12</td>\n",
              "      <td>น้ำ</td>\n",
              "      <td>สนวน</td>\n",
              "      <td>หล่มสัก</td>\n",
              "      <td>บุรีรัมย์</td>\n",
              "      <td>t_project</td>\n",
              "    </tr>\n",
              "    <tr>\n",
              "      <th>1162</th>\n",
              "      <td>1997</td>\n",
              "      <td>โครงการที่ 14</td>\n",
              "      <td>น้ำ</td>\n",
              "      <td>นาพู่</td>\n",
              "      <td>ยี่งอ</td>\n",
              "      <td>เชียงใหม่</td>\n",
              "      <td>t_project</td>\n",
              "    </tr>\n",
              "    <tr>\n",
              "      <th>1163</th>\n",
              "      <td>1998</td>\n",
              "      <td>โครงการที่ 3</td>\n",
              "      <td>น้ำ</td>\n",
              "      <td>ปากช่อง</td>\n",
              "      <td>เดิมบางนางบวช</td>\n",
              "      <td>กาญจนบุรี</td>\n",
              "      <td>t_project</td>\n",
              "    </tr>\n",
              "  </tbody>\n",
              "</table>\n",
              "<p>1164 rows × 7 columns</p>\n",
              "</div>\n",
              "    <div class=\"colab-df-buttons\">\n",
              "\n",
              "  <div class=\"colab-df-container\">\n",
              "    <button class=\"colab-df-convert\" onclick=\"convertToInteractive('df-8e0c9ed6-93b7-4ef6-9c12-e7a23d2a220f')\"\n",
              "            title=\"Convert this dataframe to an interactive table.\"\n",
              "            style=\"display:none;\">\n",
              "\n",
              "  <svg xmlns=\"http://www.w3.org/2000/svg\" height=\"24px\" viewBox=\"0 -960 960 960\">\n",
              "    <path d=\"M120-120v-720h720v720H120Zm60-500h600v-160H180v160Zm220 220h160v-160H400v160Zm0 220h160v-160H400v160ZM180-400h160v-160H180v160Zm440 0h160v-160H620v160ZM180-180h160v-160H180v160Zm440 0h160v-160H620v160Z\"/>\n",
              "  </svg>\n",
              "    </button>\n",
              "\n",
              "  <style>\n",
              "    .colab-df-container {\n",
              "      display:flex;\n",
              "      gap: 12px;\n",
              "    }\n",
              "\n",
              "    .colab-df-convert {\n",
              "      background-color: #E8F0FE;\n",
              "      border: none;\n",
              "      border-radius: 50%;\n",
              "      cursor: pointer;\n",
              "      display: none;\n",
              "      fill: #1967D2;\n",
              "      height: 32px;\n",
              "      padding: 0 0 0 0;\n",
              "      width: 32px;\n",
              "    }\n",
              "\n",
              "    .colab-df-convert:hover {\n",
              "      background-color: #E2EBFA;\n",
              "      box-shadow: 0px 1px 2px rgba(60, 64, 67, 0.3), 0px 1px 3px 1px rgba(60, 64, 67, 0.15);\n",
              "      fill: #174EA6;\n",
              "    }\n",
              "\n",
              "    .colab-df-buttons div {\n",
              "      margin-bottom: 4px;\n",
              "    }\n",
              "\n",
              "    [theme=dark] .colab-df-convert {\n",
              "      background-color: #3B4455;\n",
              "      fill: #D2E3FC;\n",
              "    }\n",
              "\n",
              "    [theme=dark] .colab-df-convert:hover {\n",
              "      background-color: #434B5C;\n",
              "      box-shadow: 0px 1px 3px 1px rgba(0, 0, 0, 0.15);\n",
              "      filter: drop-shadow(0px 1px 2px rgba(0, 0, 0, 0.3));\n",
              "      fill: #FFFFFF;\n",
              "    }\n",
              "  </style>\n",
              "\n",
              "    <script>\n",
              "      const buttonEl =\n",
              "        document.querySelector('#df-8e0c9ed6-93b7-4ef6-9c12-e7a23d2a220f button.colab-df-convert');\n",
              "      buttonEl.style.display =\n",
              "        google.colab.kernel.accessAllowed ? 'block' : 'none';\n",
              "\n",
              "      async function convertToInteractive(key) {\n",
              "        const element = document.querySelector('#df-8e0c9ed6-93b7-4ef6-9c12-e7a23d2a220f');\n",
              "        const dataTable =\n",
              "          await google.colab.kernel.invokeFunction('convertToInteractive',\n",
              "                                                    [key], {});\n",
              "        if (!dataTable) return;\n",
              "\n",
              "        const docLinkHtml = 'Like what you see? Visit the ' +\n",
              "          '<a target=\"_blank\" href=https://colab.research.google.com/notebooks/data_table.ipynb>data table notebook</a>'\n",
              "          + ' to learn more about interactive tables.';\n",
              "        element.innerHTML = '';\n",
              "        dataTable['output_type'] = 'display_data';\n",
              "        await google.colab.output.renderOutput(dataTable, element);\n",
              "        const docLink = document.createElement('div');\n",
              "        docLink.innerHTML = docLinkHtml;\n",
              "        element.appendChild(docLink);\n",
              "      }\n",
              "    </script>\n",
              "  </div>\n",
              "\n",
              "\n",
              "<div id=\"df-fa600f05-a2fb-4ae0-b599-bb78b370ec2f\">\n",
              "  <button class=\"colab-df-quickchart\" onclick=\"quickchart('df-fa600f05-a2fb-4ae0-b599-bb78b370ec2f')\"\n",
              "            title=\"Suggest charts\"\n",
              "            style=\"display:none;\">\n",
              "\n",
              "<svg xmlns=\"http://www.w3.org/2000/svg\" height=\"24px\"viewBox=\"0 0 24 24\"\n",
              "     width=\"24px\">\n",
              "    <g>\n",
              "        <path d=\"M19 3H5c-1.1 0-2 .9-2 2v14c0 1.1.9 2 2 2h14c1.1 0 2-.9 2-2V5c0-1.1-.9-2-2-2zM9 17H7v-7h2v7zm4 0h-2V7h2v10zm4 0h-2v-4h2v4z\"/>\n",
              "    </g>\n",
              "</svg>\n",
              "  </button>\n",
              "\n",
              "<style>\n",
              "  .colab-df-quickchart {\n",
              "      --bg-color: #E8F0FE;\n",
              "      --fill-color: #1967D2;\n",
              "      --hover-bg-color: #E2EBFA;\n",
              "      --hover-fill-color: #174EA6;\n",
              "      --disabled-fill-color: #AAA;\n",
              "      --disabled-bg-color: #DDD;\n",
              "  }\n",
              "\n",
              "  [theme=dark] .colab-df-quickchart {\n",
              "      --bg-color: #3B4455;\n",
              "      --fill-color: #D2E3FC;\n",
              "      --hover-bg-color: #434B5C;\n",
              "      --hover-fill-color: #FFFFFF;\n",
              "      --disabled-bg-color: #3B4455;\n",
              "      --disabled-fill-color: #666;\n",
              "  }\n",
              "\n",
              "  .colab-df-quickchart {\n",
              "    background-color: var(--bg-color);\n",
              "    border: none;\n",
              "    border-radius: 50%;\n",
              "    cursor: pointer;\n",
              "    display: none;\n",
              "    fill: var(--fill-color);\n",
              "    height: 32px;\n",
              "    padding: 0;\n",
              "    width: 32px;\n",
              "  }\n",
              "\n",
              "  .colab-df-quickchart:hover {\n",
              "    background-color: var(--hover-bg-color);\n",
              "    box-shadow: 0 1px 2px rgba(60, 64, 67, 0.3), 0 1px 3px 1px rgba(60, 64, 67, 0.15);\n",
              "    fill: var(--button-hover-fill-color);\n",
              "  }\n",
              "\n",
              "  .colab-df-quickchart-complete:disabled,\n",
              "  .colab-df-quickchart-complete:disabled:hover {\n",
              "    background-color: var(--disabled-bg-color);\n",
              "    fill: var(--disabled-fill-color);\n",
              "    box-shadow: none;\n",
              "  }\n",
              "\n",
              "  .colab-df-spinner {\n",
              "    border: 2px solid var(--fill-color);\n",
              "    border-color: transparent;\n",
              "    border-bottom-color: var(--fill-color);\n",
              "    animation:\n",
              "      spin 1s steps(1) infinite;\n",
              "  }\n",
              "\n",
              "  @keyframes spin {\n",
              "    0% {\n",
              "      border-color: transparent;\n",
              "      border-bottom-color: var(--fill-color);\n",
              "      border-left-color: var(--fill-color);\n",
              "    }\n",
              "    20% {\n",
              "      border-color: transparent;\n",
              "      border-left-color: var(--fill-color);\n",
              "      border-top-color: var(--fill-color);\n",
              "    }\n",
              "    30% {\n",
              "      border-color: transparent;\n",
              "      border-left-color: var(--fill-color);\n",
              "      border-top-color: var(--fill-color);\n",
              "      border-right-color: var(--fill-color);\n",
              "    }\n",
              "    40% {\n",
              "      border-color: transparent;\n",
              "      border-right-color: var(--fill-color);\n",
              "      border-top-color: var(--fill-color);\n",
              "    }\n",
              "    60% {\n",
              "      border-color: transparent;\n",
              "      border-right-color: var(--fill-color);\n",
              "    }\n",
              "    80% {\n",
              "      border-color: transparent;\n",
              "      border-right-color: var(--fill-color);\n",
              "      border-bottom-color: var(--fill-color);\n",
              "    }\n",
              "    90% {\n",
              "      border-color: transparent;\n",
              "      border-bottom-color: var(--fill-color);\n",
              "    }\n",
              "  }\n",
              "</style>\n",
              "\n",
              "  <script>\n",
              "    async function quickchart(key) {\n",
              "      const quickchartButtonEl =\n",
              "        document.querySelector('#' + key + ' button');\n",
              "      quickchartButtonEl.disabled = true;  // To prevent multiple clicks.\n",
              "      quickchartButtonEl.classList.add('colab-df-spinner');\n",
              "      try {\n",
              "        const charts = await google.colab.kernel.invokeFunction(\n",
              "            'suggestCharts', [key], {});\n",
              "      } catch (error) {\n",
              "        console.error('Error during call to suggestCharts:', error);\n",
              "      }\n",
              "      quickchartButtonEl.classList.remove('colab-df-spinner');\n",
              "      quickchartButtonEl.classList.add('colab-df-quickchart-complete');\n",
              "    }\n",
              "    (() => {\n",
              "      let quickchartButtonEl =\n",
              "        document.querySelector('#df-fa600f05-a2fb-4ae0-b599-bb78b370ec2f button');\n",
              "      quickchartButtonEl.style.display =\n",
              "        google.colab.kernel.accessAllowed ? 'block' : 'none';\n",
              "    })();\n",
              "  </script>\n",
              "</div>\n",
              "    </div>\n",
              "  </div>\n"
            ]
          },
          "metadata": {},
          "execution_count": 34
        }
      ]
    },
    {
      "cell_type": "markdown",
      "source": [
        "```\n",
        "Test Concept\n",
        "Created By Songpon Tulata\n",
        "Updated : Sun 10 Dec 2023 10.31\n",
        "```"
      ],
      "metadata": {
        "id": "DVfyqFEMxFqZ"
      }
    }
  ]
}